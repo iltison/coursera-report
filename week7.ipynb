{
 "cells": [
  {
   "cell_type": "markdown",
   "metadata": {},
   "source": [
    "цели и задачи проекта, описание исходных и обработанных данных и признаков.\n",
    "\n",
    "первичный анализ признаков\n",
    "\n",
    "первичный визуальный анализ признаков\n",
    "\n",
    "если пришли к каким-то \"инсайтам\", обнаружили закономерности – изложите\n",
    "\n",
    "описание предобработки данных\n",
    "\n",
    "если создаются признаки, то описание этого процесса\n",
    "\n",
    "кросс-валидация, построение кривых валидации и обучения\n",
    "\n",
    "оценка модели с описанием выбранной метрики. Опишите простыми словами качество модели, как она может применяться\n",
    "\n",
    "выводы: как построенная модель может применяться на практике, какие бизнес-задачи решать. Подведите итог, опишите, что еще можно сделать, а что сделать не удалось."
   ]
  },
  {
   "cell_type": "markdown",
   "metadata": {},
   "source": [
    "# Отчет"
   ]
  },
  {
   "cell_type": "code",
   "execution_count": 2,
   "metadata": {},
   "outputs": [],
   "source": [
    "import pandas as pd\n",
    "import numpy as np\n",
    "import os\n",
    "import seaborn as sns\n",
    "import matplotlib.pyplot as plt\n",
    "from scipy.sparse import csr_matrix\n",
    "import pickle\n",
    "import itertools\n",
    "from scipy.sparse import coo_matrix, hstack\n",
    "from sklearn.model_selection import train_test_split\n",
    "from sklearn.metrics import roc_auc_score\n",
    "from sklearn.linear_model import LogisticRegression\n",
    "from sklearn.model_selection import cross_val_score\n",
    "from tqdm import tqdm_notebook\n",
    "import warnings\n",
    "warnings.filterwarnings('ignore')"
   ]
  },
  {
   "cell_type": "markdown",
   "metadata": {},
   "source": [
    "## Цели и задачи проекта"
   ]
  },
  {
   "cell_type": "markdown",
   "metadata": {},
   "source": [
    "Задача: идентификации пользователя.\n",
    "\n",
    "Цели:\n",
    "1. По последовательности из нескольких веб-сайтов распознать человека.\n",
    "2. Получить высокую точность распознавания.\n"
   ]
  },
  {
   "cell_type": "markdown",
   "metadata": {},
   "source": [
    "# Первичный анализ признаков"
   ]
  },
  {
   "cell_type": "code",
   "execution_count": 3,
   "metadata": {},
   "outputs": [
    {
     "name": "stdout",
     "output_type": "stream",
     "text": [
      "/home/jovyan/work/week 7\r\n"
     ]
    }
   ],
   "source": [
    "!pwd"
   ]
  },
  {
   "cell_type": "code",
   "execution_count": 4,
   "metadata": {},
   "outputs": [],
   "source": [
    "PATH_TO_DATA = '/home/jovyan/work/week 5/data'"
   ]
  },
  {
   "cell_type": "code",
   "execution_count": 5,
   "metadata": {},
   "outputs": [],
   "source": [
    "train_df = pd.read_csv(os.path.join(PATH_TO_DATA, 'train_sessions.csv'),\n",
    "                       index_col='session_id')\n",
    "test_df = pd.read_csv(os.path.join(PATH_TO_DATA, 'test_sessions.csv'),\n",
    "                      index_col='session_id')"
   ]
  },
  {
   "cell_type": "code",
   "execution_count": 6,
   "metadata": {},
   "outputs": [
    {
     "data": {
      "text/plain": [
       "((253561, 21), (82797, 20))"
      ]
     },
     "execution_count": 6,
     "metadata": {},
     "output_type": "execute_result"
    }
   ],
   "source": [
    "# Размер тренировочного и тестового датасета\n",
    "train_df.shape, test_df.shape"
   ]
  },
  {
   "cell_type": "code",
   "execution_count": 7,
   "metadata": {},
   "outputs": [
    {
     "data": {
      "text/html": [
       "<div>\n",
       "<style scoped>\n",
       "    .dataframe tbody tr th:only-of-type {\n",
       "        vertical-align: middle;\n",
       "    }\n",
       "\n",
       "    .dataframe tbody tr th {\n",
       "        vertical-align: top;\n",
       "    }\n",
       "\n",
       "    .dataframe thead th {\n",
       "        text-align: right;\n",
       "    }\n",
       "</style>\n",
       "<table border=\"1\" class=\"dataframe\">\n",
       "  <thead>\n",
       "    <tr style=\"text-align: right;\">\n",
       "      <th></th>\n",
       "      <th>site1</th>\n",
       "      <th>time1</th>\n",
       "      <th>site2</th>\n",
       "      <th>time2</th>\n",
       "      <th>site3</th>\n",
       "      <th>time3</th>\n",
       "      <th>site4</th>\n",
       "      <th>time4</th>\n",
       "      <th>site5</th>\n",
       "      <th>time5</th>\n",
       "      <th>...</th>\n",
       "      <th>time6</th>\n",
       "      <th>site7</th>\n",
       "      <th>time7</th>\n",
       "      <th>site8</th>\n",
       "      <th>time8</th>\n",
       "      <th>site9</th>\n",
       "      <th>time9</th>\n",
       "      <th>site10</th>\n",
       "      <th>time10</th>\n",
       "      <th>target</th>\n",
       "    </tr>\n",
       "    <tr>\n",
       "      <th>session_id</th>\n",
       "      <th></th>\n",
       "      <th></th>\n",
       "      <th></th>\n",
       "      <th></th>\n",
       "      <th></th>\n",
       "      <th></th>\n",
       "      <th></th>\n",
       "      <th></th>\n",
       "      <th></th>\n",
       "      <th></th>\n",
       "      <th></th>\n",
       "      <th></th>\n",
       "      <th></th>\n",
       "      <th></th>\n",
       "      <th></th>\n",
       "      <th></th>\n",
       "      <th></th>\n",
       "      <th></th>\n",
       "      <th></th>\n",
       "      <th></th>\n",
       "      <th></th>\n",
       "    </tr>\n",
       "  </thead>\n",
       "  <tbody>\n",
       "    <tr>\n",
       "      <th>1</th>\n",
       "      <td>718</td>\n",
       "      <td>2014-02-20 10:02:45</td>\n",
       "      <td>NaN</td>\n",
       "      <td>NaN</td>\n",
       "      <td>NaN</td>\n",
       "      <td>NaN</td>\n",
       "      <td>NaN</td>\n",
       "      <td>NaN</td>\n",
       "      <td>NaN</td>\n",
       "      <td>NaN</td>\n",
       "      <td>...</td>\n",
       "      <td>NaN</td>\n",
       "      <td>NaN</td>\n",
       "      <td>NaN</td>\n",
       "      <td>NaN</td>\n",
       "      <td>NaN</td>\n",
       "      <td>NaN</td>\n",
       "      <td>NaN</td>\n",
       "      <td>NaN</td>\n",
       "      <td>NaN</td>\n",
       "      <td>0</td>\n",
       "    </tr>\n",
       "    <tr>\n",
       "      <th>2</th>\n",
       "      <td>890</td>\n",
       "      <td>2014-02-22 11:19:50</td>\n",
       "      <td>941.0</td>\n",
       "      <td>2014-02-22 11:19:50</td>\n",
       "      <td>3847.0</td>\n",
       "      <td>2014-02-22 11:19:51</td>\n",
       "      <td>941.0</td>\n",
       "      <td>2014-02-22 11:19:51</td>\n",
       "      <td>942.0</td>\n",
       "      <td>2014-02-22 11:19:51</td>\n",
       "      <td>...</td>\n",
       "      <td>2014-02-22 11:19:51</td>\n",
       "      <td>3847.0</td>\n",
       "      <td>2014-02-22 11:19:52</td>\n",
       "      <td>3846.0</td>\n",
       "      <td>2014-02-22 11:19:52</td>\n",
       "      <td>1516.0</td>\n",
       "      <td>2014-02-22 11:20:15</td>\n",
       "      <td>1518.0</td>\n",
       "      <td>2014-02-22 11:20:16</td>\n",
       "      <td>0</td>\n",
       "    </tr>\n",
       "    <tr>\n",
       "      <th>3</th>\n",
       "      <td>14769</td>\n",
       "      <td>2013-12-16 16:40:17</td>\n",
       "      <td>39.0</td>\n",
       "      <td>2013-12-16 16:40:18</td>\n",
       "      <td>14768.0</td>\n",
       "      <td>2013-12-16 16:40:19</td>\n",
       "      <td>14769.0</td>\n",
       "      <td>2013-12-16 16:40:19</td>\n",
       "      <td>37.0</td>\n",
       "      <td>2013-12-16 16:40:19</td>\n",
       "      <td>...</td>\n",
       "      <td>2013-12-16 16:40:19</td>\n",
       "      <td>14768.0</td>\n",
       "      <td>2013-12-16 16:40:20</td>\n",
       "      <td>14768.0</td>\n",
       "      <td>2013-12-16 16:40:21</td>\n",
       "      <td>14768.0</td>\n",
       "      <td>2013-12-16 16:40:22</td>\n",
       "      <td>14768.0</td>\n",
       "      <td>2013-12-16 16:40:24</td>\n",
       "      <td>0</td>\n",
       "    </tr>\n",
       "    <tr>\n",
       "      <th>4</th>\n",
       "      <td>782</td>\n",
       "      <td>2014-03-28 10:52:12</td>\n",
       "      <td>782.0</td>\n",
       "      <td>2014-03-28 10:52:42</td>\n",
       "      <td>782.0</td>\n",
       "      <td>2014-03-28 10:53:12</td>\n",
       "      <td>782.0</td>\n",
       "      <td>2014-03-28 10:53:42</td>\n",
       "      <td>782.0</td>\n",
       "      <td>2014-03-28 10:54:12</td>\n",
       "      <td>...</td>\n",
       "      <td>2014-03-28 10:54:42</td>\n",
       "      <td>782.0</td>\n",
       "      <td>2014-03-28 10:55:12</td>\n",
       "      <td>782.0</td>\n",
       "      <td>2014-03-28 10:55:42</td>\n",
       "      <td>782.0</td>\n",
       "      <td>2014-03-28 10:56:12</td>\n",
       "      <td>782.0</td>\n",
       "      <td>2014-03-28 10:56:42</td>\n",
       "      <td>0</td>\n",
       "    </tr>\n",
       "    <tr>\n",
       "      <th>5</th>\n",
       "      <td>22</td>\n",
       "      <td>2014-02-28 10:53:05</td>\n",
       "      <td>177.0</td>\n",
       "      <td>2014-02-28 10:55:22</td>\n",
       "      <td>175.0</td>\n",
       "      <td>2014-02-28 10:55:22</td>\n",
       "      <td>178.0</td>\n",
       "      <td>2014-02-28 10:55:23</td>\n",
       "      <td>177.0</td>\n",
       "      <td>2014-02-28 10:55:23</td>\n",
       "      <td>...</td>\n",
       "      <td>2014-02-28 10:55:59</td>\n",
       "      <td>175.0</td>\n",
       "      <td>2014-02-28 10:55:59</td>\n",
       "      <td>177.0</td>\n",
       "      <td>2014-02-28 10:55:59</td>\n",
       "      <td>177.0</td>\n",
       "      <td>2014-02-28 10:57:06</td>\n",
       "      <td>178.0</td>\n",
       "      <td>2014-02-28 10:57:11</td>\n",
       "      <td>0</td>\n",
       "    </tr>\n",
       "  </tbody>\n",
       "</table>\n",
       "<p>5 rows × 21 columns</p>\n",
       "</div>"
      ],
      "text/plain": [
       "            site1                time1  site2                time2    site3  \\\n",
       "session_id                                                                    \n",
       "1             718  2014-02-20 10:02:45    NaN                  NaN      NaN   \n",
       "2             890  2014-02-22 11:19:50  941.0  2014-02-22 11:19:50   3847.0   \n",
       "3           14769  2013-12-16 16:40:17   39.0  2013-12-16 16:40:18  14768.0   \n",
       "4             782  2014-03-28 10:52:12  782.0  2014-03-28 10:52:42    782.0   \n",
       "5              22  2014-02-28 10:53:05  177.0  2014-02-28 10:55:22    175.0   \n",
       "\n",
       "                          time3    site4                time4  site5  \\\n",
       "session_id                                                             \n",
       "1                           NaN      NaN                  NaN    NaN   \n",
       "2           2014-02-22 11:19:51    941.0  2014-02-22 11:19:51  942.0   \n",
       "3           2013-12-16 16:40:19  14769.0  2013-12-16 16:40:19   37.0   \n",
       "4           2014-03-28 10:53:12    782.0  2014-03-28 10:53:42  782.0   \n",
       "5           2014-02-28 10:55:22    178.0  2014-02-28 10:55:23  177.0   \n",
       "\n",
       "                          time5  ...                time6    site7  \\\n",
       "session_id                       ...                                 \n",
       "1                           NaN  ...                  NaN      NaN   \n",
       "2           2014-02-22 11:19:51  ...  2014-02-22 11:19:51   3847.0   \n",
       "3           2013-12-16 16:40:19  ...  2013-12-16 16:40:19  14768.0   \n",
       "4           2014-03-28 10:54:12  ...  2014-03-28 10:54:42    782.0   \n",
       "5           2014-02-28 10:55:23  ...  2014-02-28 10:55:59    175.0   \n",
       "\n",
       "                          time7    site8                time8    site9  \\\n",
       "session_id                                                               \n",
       "1                           NaN      NaN                  NaN      NaN   \n",
       "2           2014-02-22 11:19:52   3846.0  2014-02-22 11:19:52   1516.0   \n",
       "3           2013-12-16 16:40:20  14768.0  2013-12-16 16:40:21  14768.0   \n",
       "4           2014-03-28 10:55:12    782.0  2014-03-28 10:55:42    782.0   \n",
       "5           2014-02-28 10:55:59    177.0  2014-02-28 10:55:59    177.0   \n",
       "\n",
       "                          time9   site10               time10 target  \n",
       "session_id                                                            \n",
       "1                           NaN      NaN                  NaN      0  \n",
       "2           2014-02-22 11:20:15   1518.0  2014-02-22 11:20:16      0  \n",
       "3           2013-12-16 16:40:22  14768.0  2013-12-16 16:40:24      0  \n",
       "4           2014-03-28 10:56:12    782.0  2014-03-28 10:56:42      0  \n",
       "5           2014-02-28 10:57:06    178.0  2014-02-28 10:57:11      0  \n",
       "\n",
       "[5 rows x 21 columns]"
      ]
     },
     "execution_count": 7,
     "metadata": {},
     "output_type": "execute_result"
    }
   ],
   "source": [
    "train_df.head(5)"
   ]
  },
  {
   "cell_type": "code",
   "execution_count": 8,
   "metadata": {},
   "outputs": [
    {
     "data": {
      "text/html": [
       "<div>\n",
       "<style scoped>\n",
       "    .dataframe tbody tr th:only-of-type {\n",
       "        vertical-align: middle;\n",
       "    }\n",
       "\n",
       "    .dataframe tbody tr th {\n",
       "        vertical-align: top;\n",
       "    }\n",
       "\n",
       "    .dataframe thead th {\n",
       "        text-align: right;\n",
       "    }\n",
       "</style>\n",
       "<table border=\"1\" class=\"dataframe\">\n",
       "  <thead>\n",
       "    <tr style=\"text-align: right;\">\n",
       "      <th></th>\n",
       "      <th>site1</th>\n",
       "      <th>site2</th>\n",
       "      <th>site3</th>\n",
       "      <th>site4</th>\n",
       "      <th>site5</th>\n",
       "      <th>site6</th>\n",
       "      <th>site7</th>\n",
       "      <th>site8</th>\n",
       "      <th>site9</th>\n",
       "      <th>site10</th>\n",
       "      <th>target</th>\n",
       "    </tr>\n",
       "  </thead>\n",
       "  <tbody>\n",
       "    <tr>\n",
       "      <th>count</th>\n",
       "      <td>253561.000000</td>\n",
       "      <td>250098.000000</td>\n",
       "      <td>246919.000000</td>\n",
       "      <td>244321.000000</td>\n",
       "      <td>241829.000000</td>\n",
       "      <td>239495.000000</td>\n",
       "      <td>237297.000000</td>\n",
       "      <td>235224.000000</td>\n",
       "      <td>233084.000000</td>\n",
       "      <td>231052.000000</td>\n",
       "      <td>253561.000000</td>\n",
       "    </tr>\n",
       "    <tr>\n",
       "      <th>mean</th>\n",
       "      <td>3243.550144</td>\n",
       "      <td>3272.400883</td>\n",
       "      <td>3303.987757</td>\n",
       "      <td>3325.109422</td>\n",
       "      <td>3343.406035</td>\n",
       "      <td>3352.312637</td>\n",
       "      <td>3395.546771</td>\n",
       "      <td>3430.157765</td>\n",
       "      <td>3438.400088</td>\n",
       "      <td>3460.388861</td>\n",
       "      <td>0.009059</td>\n",
       "    </tr>\n",
       "    <tr>\n",
       "      <th>std</th>\n",
       "      <td>7247.006212</td>\n",
       "      <td>7307.480404</td>\n",
       "      <td>7347.809918</td>\n",
       "      <td>7371.245606</td>\n",
       "      <td>7379.758550</td>\n",
       "      <td>7380.413775</td>\n",
       "      <td>7435.727671</td>\n",
       "      <td>7473.417900</td>\n",
       "      <td>7471.062652</td>\n",
       "      <td>7492.447548</td>\n",
       "      <td>0.094747</td>\n",
       "    </tr>\n",
       "    <tr>\n",
       "      <th>min</th>\n",
       "      <td>1.000000</td>\n",
       "      <td>1.000000</td>\n",
       "      <td>1.000000</td>\n",
       "      <td>1.000000</td>\n",
       "      <td>1.000000</td>\n",
       "      <td>1.000000</td>\n",
       "      <td>1.000000</td>\n",
       "      <td>1.000000</td>\n",
       "      <td>1.000000</td>\n",
       "      <td>1.000000</td>\n",
       "      <td>0.000000</td>\n",
       "    </tr>\n",
       "    <tr>\n",
       "      <th>25%</th>\n",
       "      <td>53.000000</td>\n",
       "      <td>53.000000</td>\n",
       "      <td>53.000000</td>\n",
       "      <td>52.000000</td>\n",
       "      <td>52.000000</td>\n",
       "      <td>52.000000</td>\n",
       "      <td>55.000000</td>\n",
       "      <td>55.000000</td>\n",
       "      <td>55.000000</td>\n",
       "      <td>55.000000</td>\n",
       "      <td>0.000000</td>\n",
       "    </tr>\n",
       "    <tr>\n",
       "      <th>50%</th>\n",
       "      <td>677.000000</td>\n",
       "      <td>677.000000</td>\n",
       "      <td>677.000000</td>\n",
       "      <td>677.000000</td>\n",
       "      <td>678.000000</td>\n",
       "      <td>679.000000</td>\n",
       "      <td>679.000000</td>\n",
       "      <td>704.000000</td>\n",
       "      <td>733.000000</td>\n",
       "      <td>733.000000</td>\n",
       "      <td>0.000000</td>\n",
       "    </tr>\n",
       "    <tr>\n",
       "      <th>75%</th>\n",
       "      <td>1980.000000</td>\n",
       "      <td>1980.000000</td>\n",
       "      <td>1986.500000</td>\n",
       "      <td>1995.000000</td>\n",
       "      <td>2054.000000</td>\n",
       "      <td>2077.000000</td>\n",
       "      <td>2197.000000</td>\n",
       "      <td>2287.000000</td>\n",
       "      <td>2366.000000</td>\n",
       "      <td>2403.000000</td>\n",
       "      <td>0.000000</td>\n",
       "    </tr>\n",
       "    <tr>\n",
       "      <th>max</th>\n",
       "      <td>41601.000000</td>\n",
       "      <td>41600.000000</td>\n",
       "      <td>41599.000000</td>\n",
       "      <td>41599.000000</td>\n",
       "      <td>41599.000000</td>\n",
       "      <td>41600.000000</td>\n",
       "      <td>41600.000000</td>\n",
       "      <td>41601.000000</td>\n",
       "      <td>41601.000000</td>\n",
       "      <td>41601.000000</td>\n",
       "      <td>1.000000</td>\n",
       "    </tr>\n",
       "  </tbody>\n",
       "</table>\n",
       "</div>"
      ],
      "text/plain": [
       "               site1          site2          site3          site4  \\\n",
       "count  253561.000000  250098.000000  246919.000000  244321.000000   \n",
       "mean     3243.550144    3272.400883    3303.987757    3325.109422   \n",
       "std      7247.006212    7307.480404    7347.809918    7371.245606   \n",
       "min         1.000000       1.000000       1.000000       1.000000   \n",
       "25%        53.000000      53.000000      53.000000      52.000000   \n",
       "50%       677.000000     677.000000     677.000000     677.000000   \n",
       "75%      1980.000000    1980.000000    1986.500000    1995.000000   \n",
       "max     41601.000000   41600.000000   41599.000000   41599.000000   \n",
       "\n",
       "               site5          site6          site7          site8  \\\n",
       "count  241829.000000  239495.000000  237297.000000  235224.000000   \n",
       "mean     3343.406035    3352.312637    3395.546771    3430.157765   \n",
       "std      7379.758550    7380.413775    7435.727671    7473.417900   \n",
       "min         1.000000       1.000000       1.000000       1.000000   \n",
       "25%        52.000000      52.000000      55.000000      55.000000   \n",
       "50%       678.000000     679.000000     679.000000     704.000000   \n",
       "75%      2054.000000    2077.000000    2197.000000    2287.000000   \n",
       "max     41599.000000   41600.000000   41600.000000   41601.000000   \n",
       "\n",
       "               site9         site10         target  \n",
       "count  233084.000000  231052.000000  253561.000000  \n",
       "mean     3438.400088    3460.388861       0.009059  \n",
       "std      7471.062652    7492.447548       0.094747  \n",
       "min         1.000000       1.000000       0.000000  \n",
       "25%        55.000000      55.000000       0.000000  \n",
       "50%       733.000000     733.000000       0.000000  \n",
       "75%      2366.000000    2403.000000       0.000000  \n",
       "max     41601.000000   41601.000000       1.000000  "
      ]
     },
     "execution_count": 8,
     "metadata": {},
     "output_type": "execute_result"
    }
   ],
   "source": [
    "train_df.describe()"
   ]
  },
  {
   "cell_type": "code",
   "execution_count": 9,
   "metadata": {},
   "outputs": [
    {
     "name": "stdout",
     "output_type": "stream",
     "text": [
      "<class 'pandas.core.frame.DataFrame'>\n",
      "Int64Index: 253561 entries, 1 to 253561\n",
      "Data columns (total 21 columns):\n",
      " #   Column  Non-Null Count   Dtype  \n",
      "---  ------  --------------   -----  \n",
      " 0   site1   253561 non-null  int64  \n",
      " 1   time1   253561 non-null  object \n",
      " 2   site2   250098 non-null  float64\n",
      " 3   time2   250098 non-null  object \n",
      " 4   site3   246919 non-null  float64\n",
      " 5   time3   246919 non-null  object \n",
      " 6   site4   244321 non-null  float64\n",
      " 7   time4   244321 non-null  object \n",
      " 8   site5   241829 non-null  float64\n",
      " 9   time5   241829 non-null  object \n",
      " 10  site6   239495 non-null  float64\n",
      " 11  time6   239495 non-null  object \n",
      " 12  site7   237297 non-null  float64\n",
      " 13  time7   237297 non-null  object \n",
      " 14  site8   235224 non-null  float64\n",
      " 15  time8   235224 non-null  object \n",
      " 16  site9   233084 non-null  float64\n",
      " 17  time9   233084 non-null  object \n",
      " 18  site10  231052 non-null  float64\n",
      " 19  time10  231052 non-null  object \n",
      " 20  target  253561 non-null  int64  \n",
      "dtypes: float64(9), int64(2), object(10)\n",
      "memory usage: 42.6+ MB\n"
     ]
    }
   ],
   "source": [
    "train_df.info()"
   ]
  },
  {
   "cell_type": "markdown",
   "metadata": {},
   "source": [
    "# Предобработки данных и создание новых признаков "
   ]
  },
  {
   "cell_type": "code",
   "execution_count": 10,
   "metadata": {},
   "outputs": [],
   "source": [
    "train_test_df = pd.concat([train_df, test_df])"
   ]
  },
  {
   "cell_type": "code",
   "execution_count": 11,
   "metadata": {},
   "outputs": [],
   "source": [
    "train_test_df_sites = train_test_df[['site%d' % i for i in range(1, 11)]].fillna(0).astype('int')"
   ]
  },
  {
   "cell_type": "code",
   "execution_count": 12,
   "metadata": {},
   "outputs": [],
   "source": [
    "from tqdm import tqdm_notebook\n",
    "def csr(docs):\n",
    "    indptr = [0]\n",
    "    indices = []\n",
    "    data = []\n",
    "    vocabulary = {}\n",
    "    for d in tqdm_notebook(docs):\n",
    "        for term in d:\n",
    "            index = vocabulary.setdefault(term, term)\n",
    "            indices.append(index)\n",
    "            data.append(1)\n",
    "        indptr.append(len(indices))\n",
    "    return csr_matrix((data, indices, indptr))[:,1:]"
   ]
  },
  {
   "cell_type": "code",
   "execution_count": 13,
   "metadata": {},
   "outputs": [
    {
     "data": {
      "application/vnd.jupyter.widget-view+json": {
       "model_id": "a7d592a0261c4e53b44f274b9fcf2921",
       "version_major": 2,
       "version_minor": 0
      },
      "text/plain": [
       "HBox(children=(FloatProgress(value=0.0, max=336358.0), HTML(value='')))"
      ]
     },
     "metadata": {},
     "output_type": "display_data"
    },
    {
     "name": "stdout",
     "output_type": "stream",
     "text": [
      "\n"
     ]
    },
    {
     "data": {
      "text/plain": [
       "(253561, 82797)"
      ]
     },
     "execution_count": 13,
     "metadata": {},
     "output_type": "execute_result"
    }
   ],
   "source": [
    "train_test_sparse = csr(train_test_df_sites.values)\n",
    "X_train_sparse = train_test_sparse[:train_df.shape[0]]\n",
    "X_test_sparse = train_test_sparse[train_df.shape[0]:]                   \n",
    "y = train_df.iloc[:, -1].values\n",
    "X_train_sparse.shape[0],X_test_sparse.shape[0]"
   ]
  },
  {
   "cell_type": "code",
   "execution_count": 14,
   "metadata": {},
   "outputs": [],
   "source": [
    "def freq_site(data):\n",
    "    \"\"\"\n",
    "    Составление словаря встречаемости сайтов\n",
    "    Args:\n",
    "        data - DataFrame\n",
    "    Return:\n",
    "        sorted_alice_dict - отсортированный словарь\n",
    "    \"\"\"\n",
    "    l1 = [list(zip(data[c].value_counts().index, data[c].value_counts().values)) for c in list(data.columns)]\n",
    "    dict_site = {}\n",
    "    for i in l1:\n",
    "        for j in i:\n",
    "            try:\n",
    "                dict_site[j[0]] += j[1] \n",
    "            except:\n",
    "                dict_site[j[0]] = j[1] \n",
    "    return dict_site\n",
    "\n",
    "def create_sorted_dict(data,site_dic):\n",
    "    \"\"\"\n",
    "    Составление словаря отсортированных сайтов\n",
    "    Args:\n",
    "        data - DataFrame\n",
    "        site_dic - Словарь сайтов\n",
    "    Return:\n",
    "        Ключи словаря, значения словаря и отсортированный словарь\n",
    "    \"\"\"\n",
    "    name_list = {}\n",
    "    for name, id_ in site_dic.items():\n",
    "        if id_ in data:\n",
    "            name_list[name] = data[id_]\n",
    "\n",
    "    sorted_name = {k: v for k, v in sorted(name_list.items(),key=lambda item: item[1], reverse=True)}\n",
    "    keys = list(sorted_name.keys())\n",
    "    values = list(sorted_name.values())\n",
    "    return keys,values,sorted_name\n"
   ]
  },
  {
   "cell_type": "code",
   "execution_count": 15,
   "metadata": {},
   "outputs": [],
   "source": [
    "# PATH_TO_DATA = '/home/jovyan/work/Финальный проект/week 5/data' \n",
    "with open(os.path.join(PATH_TO_DATA, 'site_dic.pkl'), 'rb') as dic:\n",
    "     site_dic = pickle.load(dic)"
   ]
  },
  {
   "cell_type": "markdown",
   "metadata": {},
   "source": [
    "#### Новые признаки:\n",
    "1. start_h - Время начала сессии(утро, день, вечер, ночь).\n",
    "2. start_day - День начала сессии.\n",
    "3. start_m - Месяц начала сессии.\n",
    "4. first_site - Первый сайт в сессии.\n",
    "5. last_site - Последний сайт в сессии.\n",
    "6. duration - Продолжительность сессии.\n",
    "7. unique - Количество уникальных сайтов."
   ]
  },
  {
   "cell_type": "code",
   "execution_count": 16,
   "metadata": {},
   "outputs": [],
   "source": [
    "def time(x):\n",
    "    if (x >= 7) & (x <= 11):\n",
    "        return 1\n",
    "    if (x >= 12) & (x <= 18):\n",
    "        return 2\n",
    "    if (x >= 19) & (x <= 23):\n",
    "        return 3\n",
    "    if (x >= 0) & (x <=6):\n",
    "        return 4\n",
    "\n",
    "\n",
    "def new_features(dataset):\n",
    "    df = pd.DataFrame()\n",
    "    data_timestamp = dataset[dataset.filter(like='time').columns].apply(pd.to_datetime, errors='coerce')\n",
    "    data_timestamp['time10'] = data_timestamp[['time1','time10']].apply(lambda x: (x['time1'] + pd.Timedelta(minutes=30) if pd.isnull(x['time10']) else x['time10']), axis=1)\n",
    "    df['start_h'] = data_timestamp['time1'].apply(lambda x: time(x.hour)).astype('int').values\n",
    "    df['start_day'] = data_timestamp['time1'].apply(lambda x: x.weekday()).astype('int').values\n",
    "    df['start_m'] = data_timestamp['time1'].apply(lambda x: x.month).astype('int').values\n",
    "    df['first_site'] = dataset['site1']\n",
    "    df['last_site'] = dataset['site10']\n",
    "    df['duration'] = (data_timestamp['time10'] - data_timestamp['time1']).apply(lambda x: x.seconds/10e8)\n",
    "    df['unique']= dataset[dataset.filter(like='site').columns].apply(lambda x: len(np.unique(x[~np.isnan(x)]).tolist()),axis =1)\n",
    "    return df\n",
    "new_train_features = new_features(train_df)\n",
    "train_data = hstack([X_train_sparse,new_train_features.fillna(0)])\n",
    "new_test_features = new_features(test_df)\n",
    "test_data = hstack([X_test_sparse,new_test_features.fillna(0)])"
   ]
  },
  {
   "cell_type": "markdown",
   "metadata": {},
   "source": [
    "# Первичный визуальный анализ признаков"
   ]
  },
  {
   "cell_type": "code",
   "execution_count": 17,
   "metadata": {},
   "outputs": [
    {
     "data": {
      "image/png": "[encoded data removed]",
      "text/plain": [
       "<Figure size 432x288 with 1 Axes>"
      ]
     },
     "metadata": {
      "needs_background": "light"
     },
     "output_type": "display_data"
    }
   ],
   "source": [
    "sns.countplot(train_df['target'])\n",
    "plt.title(\"Распределение маркировки\")\n",
    "plt.show()"
   ]
  },
  {
   "cell_type": "code",
   "execution_count": 18,
   "metadata": {},
   "outputs": [
    {
     "data": {
      "text/plain": [
       "0    251264\n",
       "1      2297\n",
       "Name: target, dtype: int64"
      ]
     },
     "execution_count": 18,
     "metadata": {},
     "output_type": "execute_result"
    }
   ],
   "source": [
    "train_df['target'].value_counts()"
   ]
  },
  {
   "cell_type": "code",
   "execution_count": 19,
   "metadata": {},
   "outputs": [],
   "source": [
    "new_train_features['target'] = y"
   ]
  },
  {
   "cell_type": "code",
   "execution_count": 20,
   "metadata": {},
   "outputs": [
    {
     "data": {
      "text/html": [
       "<div>\n",
       "<style scoped>\n",
       "    .dataframe tbody tr th:only-of-type {\n",
       "        vertical-align: middle;\n",
       "    }\n",
       "\n",
       "    .dataframe tbody tr th {\n",
       "        vertical-align: top;\n",
       "    }\n",
       "\n",
       "    .dataframe thead th {\n",
       "        text-align: right;\n",
       "    }\n",
       "</style>\n",
       "<table border=\"1\" class=\"dataframe\">\n",
       "  <thead>\n",
       "    <tr style=\"text-align: right;\">\n",
       "      <th></th>\n",
       "      <th>start_h</th>\n",
       "      <th>start_day</th>\n",
       "      <th>start_m</th>\n",
       "      <th>first_site</th>\n",
       "      <th>last_site</th>\n",
       "      <th>duration</th>\n",
       "      <th>unique</th>\n",
       "      <th>target</th>\n",
       "    </tr>\n",
       "  </thead>\n",
       "  <tbody>\n",
       "    <tr>\n",
       "      <th>0</th>\n",
       "      <td>1</td>\n",
       "      <td>3</td>\n",
       "      <td>2</td>\n",
       "      <td>NaN</td>\n",
       "      <td>NaN</td>\n",
       "      <td>NaN</td>\n",
       "      <td>NaN</td>\n",
       "      <td>0</td>\n",
       "    </tr>\n",
       "    <tr>\n",
       "      <th>1</th>\n",
       "      <td>1</td>\n",
       "      <td>5</td>\n",
       "      <td>2</td>\n",
       "      <td>718.0</td>\n",
       "      <td>NaN</td>\n",
       "      <td>1.800000e-06</td>\n",
       "      <td>1.0</td>\n",
       "      <td>0</td>\n",
       "    </tr>\n",
       "    <tr>\n",
       "      <th>2</th>\n",
       "      <td>2</td>\n",
       "      <td>0</td>\n",
       "      <td>12</td>\n",
       "      <td>890.0</td>\n",
       "      <td>1518.0</td>\n",
       "      <td>2.600000e-08</td>\n",
       "      <td>7.0</td>\n",
       "      <td>0</td>\n",
       "    </tr>\n",
       "    <tr>\n",
       "      <th>3</th>\n",
       "      <td>1</td>\n",
       "      <td>4</td>\n",
       "      <td>3</td>\n",
       "      <td>14769.0</td>\n",
       "      <td>14768.0</td>\n",
       "      <td>7.000000e-09</td>\n",
       "      <td>4.0</td>\n",
       "      <td>0</td>\n",
       "    </tr>\n",
       "    <tr>\n",
       "      <th>4</th>\n",
       "      <td>1</td>\n",
       "      <td>4</td>\n",
       "      <td>2</td>\n",
       "      <td>782.0</td>\n",
       "      <td>782.0</td>\n",
       "      <td>2.700000e-07</td>\n",
       "      <td>1.0</td>\n",
       "      <td>0</td>\n",
       "    </tr>\n",
       "    <tr>\n",
       "      <th>...</th>\n",
       "      <td>...</td>\n",
       "      <td>...</td>\n",
       "      <td>...</td>\n",
       "      <td>...</td>\n",
       "      <td>...</td>\n",
       "      <td>...</td>\n",
       "      <td>...</td>\n",
       "      <td>...</td>\n",
       "    </tr>\n",
       "    <tr>\n",
       "      <th>253556</th>\n",
       "      <td>1</td>\n",
       "      <td>0</td>\n",
       "      <td>11</td>\n",
       "      <td>9041.0</td>\n",
       "      <td>52.0</td>\n",
       "      <td>1.600000e-08</td>\n",
       "      <td>5.0</td>\n",
       "      <td>0</td>\n",
       "    </tr>\n",
       "    <tr>\n",
       "      <th>253557</th>\n",
       "      <td>2</td>\n",
       "      <td>1</td>\n",
       "      <td>3</td>\n",
       "      <td>3474.0</td>\n",
       "      <td>148.0</td>\n",
       "      <td>5.900000e-08</td>\n",
       "      <td>5.0</td>\n",
       "      <td>0</td>\n",
       "    </tr>\n",
       "    <tr>\n",
       "      <th>253558</th>\n",
       "      <td>2</td>\n",
       "      <td>3</td>\n",
       "      <td>9</td>\n",
       "      <td>12727.0</td>\n",
       "      <td>21.0</td>\n",
       "      <td>3.000000e-09</td>\n",
       "      <td>6.0</td>\n",
       "      <td>0</td>\n",
       "    </tr>\n",
       "    <tr>\n",
       "      <th>253559</th>\n",
       "      <td>2</td>\n",
       "      <td>3</td>\n",
       "      <td>12</td>\n",
       "      <td>2661.0</td>\n",
       "      <td>NaN</td>\n",
       "      <td>1.800000e-06</td>\n",
       "      <td>3.0</td>\n",
       "      <td>0</td>\n",
       "    </tr>\n",
       "    <tr>\n",
       "      <th>253560</th>\n",
       "      <td>1</td>\n",
       "      <td>4</td>\n",
       "      <td>4</td>\n",
       "      <td>812.0</td>\n",
       "      <td>570.0</td>\n",
       "      <td>2.000000e-09</td>\n",
       "      <td>6.0</td>\n",
       "      <td>0</td>\n",
       "    </tr>\n",
       "  </tbody>\n",
       "</table>\n",
       "<p>253561 rows × 8 columns</p>\n",
       "</div>"
      ],
      "text/plain": [
       "        start_h  start_day  start_m  first_site  last_site      duration  \\\n",
       "0             1          3        2         NaN        NaN           NaN   \n",
       "1             1          5        2       718.0        NaN  1.800000e-06   \n",
       "2             2          0       12       890.0     1518.0  2.600000e-08   \n",
       "3             1          4        3     14769.0    14768.0  7.000000e-09   \n",
       "4             1          4        2       782.0      782.0  2.700000e-07   \n",
       "...         ...        ...      ...         ...        ...           ...   \n",
       "253556        1          0       11      9041.0       52.0  1.600000e-08   \n",
       "253557        2          1        3      3474.0      148.0  5.900000e-08   \n",
       "253558        2          3        9     12727.0       21.0  3.000000e-09   \n",
       "253559        2          3       12      2661.0        NaN  1.800000e-06   \n",
       "253560        1          4        4       812.0      570.0  2.000000e-09   \n",
       "\n",
       "        unique  target  \n",
       "0          NaN       0  \n",
       "1          1.0       0  \n",
       "2          7.0       0  \n",
       "3          4.0       0  \n",
       "4          1.0       0  \n",
       "...        ...     ...  \n",
       "253556     5.0       0  \n",
       "253557     5.0       0  \n",
       "253558     6.0       0  \n",
       "253559     3.0       0  \n",
       "253560     6.0       0  \n",
       "\n",
       "[253561 rows x 8 columns]"
      ]
     },
     "execution_count": 20,
     "metadata": {},
     "output_type": "execute_result"
    }
   ],
   "source": [
    "new_train_features"
   ]
  },
  {
   "cell_type": "markdown",
   "metadata": {},
   "source": [
    "#### Начало сессии Alice"
   ]
  },
  {
   "cell_type": "code",
   "execution_count": 21,
   "metadata": {},
   "outputs": [],
   "source": [
    "alice_time = new_train_features[new_train_features['target'] == 1]"
   ]
  },
  {
   "cell_type": "code",
   "execution_count": 22,
   "metadata": {},
   "outputs": [
    {
     "data": {
      "image/png": "[encoded data removed]",
      "text/plain": [
       "<Figure size 432x288 with 1 Axes>"
      ]
     },
     "metadata": {
      "needs_background": "light"
     },
     "output_type": "display_data"
    }
   ],
   "source": [
    "sns.countplot(alice_time['start_day']).set_xticklabels(['Пн', 'Вт', 'Ср', 'Чт', 'Пт', 'Сб', 'Вс'])\n",
    "plt.title(\"Распределение данных Alice по дням недели\")\n",
    "plt.show()"
   ]
  },
  {
   "cell_type": "code",
   "execution_count": 23,
   "metadata": {},
   "outputs": [
    {
     "data": {
      "image/png": "[encoded data removed]",
      "text/plain": [
       "<Figure size 432x288 with 1 Axes>"
      ]
     },
     "metadata": {
      "needs_background": "light"
     },
     "output_type": "display_data"
    }
   ],
   "source": [
    "sns.countplot(alice_time['start_h']).set_xticklabels(['утро', 'день', 'вечер', 'ночь'])\n",
    "plt.title(\"Распределение данных Alice по промежуткам времяни\")\n",
    "plt.show()"
   ]
  },
  {
   "cell_type": "markdown",
   "metadata": {},
   "source": [
    "#### Начало сессии не Alice"
   ]
  },
  {
   "cell_type": "code",
   "execution_count": 24,
   "metadata": {},
   "outputs": [],
   "source": [
    "not_alice_time = new_train_features[new_train_features['target'] == 0]"
   ]
  },
  {
   "cell_type": "code",
   "execution_count": 25,
   "metadata": {},
   "outputs": [
    {
     "data": {
      "image/png": "[encoded data removed]",
      "text/plain": [
       "<Figure size 432x288 with 1 Axes>"
      ]
     },
     "metadata": {
      "needs_background": "light"
     },
     "output_type": "display_data"
    }
   ],
   "source": [
    "sns.countplot(not_alice_time['start_day']).set_xticklabels(['Пн', 'Вт', 'Ср', 'Чт', 'Пт', 'Сб', 'Вс'])\n",
    "plt.title(\"Распределение данных Alice по дням недели\")\n",
    "plt.show()"
   ]
  },
  {
   "cell_type": "code",
   "execution_count": 26,
   "metadata": {},
   "outputs": [
    {
     "data": {
      "image/png": "[encoded data removed]",
      "text/plain": [
       "<Figure size 432x288 with 1 Axes>"
      ]
     },
     "metadata": {
      "needs_background": "light"
     },
     "output_type": "display_data"
    }
   ],
   "source": [
    "sns.countplot(not_alice_time['start_h']).set_xticklabels(['утро', 'день', 'вечер', 'ночь'])\n",
    "plt.title(\"Распределение данных Alice по промежуткам времяни\")\n",
    "plt.show()"
   ]
  },
  {
   "cell_type": "markdown",
   "metadata": {},
   "source": [
    "# Сравнение сессий Alice с чужими"
   ]
  },
  {
   "cell_type": "code",
   "execution_count": 27,
   "metadata": {},
   "outputs": [],
   "source": [
    "# ALICE\n",
    "alice = train_df[train_df['target'] == 1]\n",
    "alice_site = alice[alice.filter(like='site').columns]\n",
    "alice_time = new_train_features[new_train_features['target'] == 1]\n",
    "\n",
    "# Alice top-10 sites\n",
    "top_10_site_Alice = dict(itertools.islice(freq_site(alice_site).items(), 10))\n",
    "Alice_keys,Alice_values,sorted_top_10_site_Alice_name = create_sorted_dict(top_10_site_Alice,site_dic)\n",
    "\n",
    "# Alice first sites\n",
    "alice_time_top_first_site = dict(alice_time.first_site.value_counts().iloc[:10])\n",
    "Alice_keys_f,Alice_values_f,sorted_first_site_Alice_name = create_sorted_dict(alice_time_top_first_site,site_dic)\n",
    "\n",
    "# Alice last sites\n",
    "alice_time_top_last_site = dict(alice_time.last_site.value_counts().iloc[:10])\n",
    "Alice_keys_l,Alice_values_l,sorted_first_site_Alice_name = create_sorted_dict(alice_time_top_last_site,site_dic)\n",
    "\n",
    "\n",
    "# NOT ALICE\n",
    "not_alice = train_df[train_df['target'] == 0]\n",
    "not_alice_site = not_alice[not_alice.filter(like='site').columns]\n",
    "not_alice_time = new_train_features[new_train_features['target'] == 0]\n",
    "# not Alice top-10 sites\n",
    "top_10_site_not_Alice = dict(itertools.islice(freq_site(not_alice_site).items(), 10))\n",
    "not_Alice_keys,not_Alice_values,sorted_top_10_site_not_Alice_name = create_sorted_dict(top_10_site_not_Alice,site_dic)\n",
    "\n",
    "# Alice first sites\n",
    "not_alice_time_top_first_site = dict(not_alice_time.first_site.value_counts().iloc[:10])\n",
    "not_Alice_keys_f,not_Alice_values_f,sorted_first_site_not_Alice_name = create_sorted_dict(not_alice_time_top_first_site,site_dic)\n",
    "\n",
    "# Alice last sites\n",
    "not_alice_time_top_last_site = dict(not_alice_time.last_site.value_counts().iloc[:10])\n",
    "not_Alice_keys_l,not_Alice_values_l,sorted_first_site_not_Alice_name = create_sorted_dict(not_alice_time_top_last_site,site_dic)"
   ]
  },
  {
   "cell_type": "code",
   "execution_count": 28,
   "metadata": {},
   "outputs": [
    {
     "data": {
      "image/png": "[encoded data removed]",
      "text/plain": [
       "<Figure size 1440x1080 with 6 Axes>"
      ]
     },
     "metadata": {
      "needs_background": "light"
     },
     "output_type": "display_data"
    }
   ],
   "source": [
    "fig, axes = plt.subplots(nrows=2, ncols=3, figsize=(20, 15))\n",
    "# Alice top-10 sites\n",
    "sns.barplot(Alice_values,Alice_keys, palette=\"Oranges_r\", ax=axes[0, 0]).set_title(\"Распределение данных Alice по всем сайтам\")\n",
    "# Alice first sites\n",
    "sns.barplot(Alice_values_f,Alice_keys_f, palette=\"Purples_r\", ax=axes[0, 1]).set_title(\"Распределение данных Alice по первым сайтам\")\n",
    "# Alice last sites\n",
    "sns.barplot(Alice_values_l,Alice_keys_l, palette=\"Blues_r\", ax=axes[0, 2]).set_title(\"Распределение данных Alice по последним сайтам\")\n",
    "\n",
    "# not_Alice top-10 sites\n",
    "sns.barplot(not_Alice_values,not_Alice_keys, palette=\"Oranges_r\", ax=axes[1, 0]).set_title(\"Распределение данных не Alice по всем сайтам\")\n",
    "# not_Alice first sites\n",
    "sns.barplot(not_Alice_values_f,not_Alice_keys_f, palette=\"Purples_r\", ax=axes[1, 1]).set_title(\"Распределение данных не Alice по первым сайтам\")\n",
    "# not_Alice last sites\n",
    "sns.barplot(not_Alice_values_l,not_Alice_keys_l, palette=\"Blues_r\", ax=axes[1, 2]).set_title(\"Распределение данных не Alice по последним сайтам\")\n",
    "plt.show()"
   ]
  },
  {
   "cell_type": "markdown",
   "metadata": {},
   "source": [
    "Начало и конец сессия для Alice схожее с чужими сессиями, но типичные посещаемые сайты не похожи."
   ]
  },
  {
   "cell_type": "markdown",
   "metadata": {},
   "source": [
    "# Кросс-валидация, построение кривых валидации и обучения"
   ]
  },
  {
   "cell_type": "code",
   "execution_count": 34,
   "metadata": {},
   "outputs": [],
   "source": [
    "def cross_validation(X,y):\n",
    "    X_train, X_test, y_train, y_test = train_test_split(\n",
    "        X, y, test_size=0.3, random_state=17)\n",
    "    C = np.linspace(0.1, 10.0, num=20)\n",
    "    cv_list,test_list = {},{}\n",
    "    \n",
    "    for c in tqdm_notebook(C):\n",
    "        lg = LogisticRegression(C=c, random_state=17, solver='liblinear')\n",
    "        cv_list[c] = np.mean(cross_val_score(lg, X_train, y_train, cv=3, scoring='roc_auc'))\n",
    "        test_list[c] = roc_auc_score(y_test, lg.fit(X_train,y_train).predict_proba(X_test)[:, 1])\n",
    "    \n",
    "    plt.plot(C, list(cv_list.values()), label='CV')\n",
    "    plt.plot(C, list(test_list.values()), label='test')\n",
    "    plt.title('График зависимости предсказаний от параметра C')\n",
    "    plt.xlabel('Параметр С')\n",
    "    plt.ylabel('ROC AUC score')\n",
    "    plt.legend()\n",
    "    max_cv = max(cv_list, key=cv_list.get)\n",
    "    max_test = max(test_list, key=test_list.get)\n",
    "    print('MAX C and score in cv = {}, MAX C and score in test = {}'.format((max_cv ,cv_list[max_cv]),\n",
    "                                                                            (max_test,test_list[max_test])))\n",
    "    return cv_list[max_cv],test_list[max_test]"
   ]
  },
  {
   "cell_type": "code",
   "execution_count": 35,
   "metadata": {},
   "outputs": [
    {
     "data": {
      "application/vnd.jupyter.widget-view+json": {
       "model_id": "f20da5f094f347f280ed218533e88c33",
       "version_major": 2,
       "version_minor": 0
      },
      "text/plain": [
       "HBox(children=(FloatProgress(value=0.0, max=20.0), HTML(value='')))"
      ]
     },
     "metadata": {},
     "output_type": "display_data"
    },
    {
     "name": "stdout",
     "output_type": "stream",
     "text": [
      "\n",
      "MAX C and score in cv = (8.957894736842105, 0.9678048692522986), MAX C and score in test = (8.436842105263159, 0.9758839248315684)\n"
     ]
    },
    {
     "data": {
      "image/png": "[encoded data removed]",
      "text/plain": [
       "<Figure size 432x288 with 1 Axes>"
      ]
     },
     "metadata": {
      "needs_background": "light"
     },
     "output_type": "display_data"
    }
   ],
   "source": [
    "max_cv,max_test = cross_validation(train_data,y)"
   ]
  },
  {
   "cell_type": "markdown",
   "metadata": {},
   "source": [
    "При увеличении параметра C метрика слабо изменяется "
   ]
  },
  {
   "cell_type": "markdown",
   "metadata": {},
   "source": [
    "# Оценка модели с описанием выбранной метрики"
   ]
  },
  {
   "cell_type": "markdown",
   "metadata": {},
   "source": [
    "Несбалансированных данные и требуется предсказать вероятность класса. Для этого больше подходит ROC AUC."
   ]
  },
  {
   "cell_type": "code",
   "execution_count": 31,
   "metadata": {},
   "outputs": [],
   "source": [
    "def write_to_submission_file(predicted_labels, out_file,\n",
    "                             target='target', index_label=\"session_id\"):\n",
    "    # turn predictions into data frame and save as csv file\n",
    "    predicted_df = pd.DataFrame(predicted_labels,\n",
    "                                index = np.arange(1, predicted_labels.shape[0] + 1),\n",
    "                                columns=[target])\n",
    "    predicted_df.to_csv(out_file, index_label=index_label)"
   ]
  },
  {
   "cell_type": "code",
   "execution_count": 40,
   "metadata": {},
   "outputs": [],
   "source": [
    "lg = LogisticRegression(C=max_cv, random_state=17, solver='liblinear')\n",
    "pred = lg.fit(train_data,y).predict_proba(test_data)[:, 1]"
   ]
  },
  {
   "cell_type": "code",
   "execution_count": 41,
   "metadata": {},
   "outputs": [],
   "source": [
    "write_to_submission_file(pred, 'sub.csv')"
   ]
  },
  {
   "attachments": {
    "image.png": {
     "image/png": "[encoded data removed]"
    }
   },
   "cell_type": "markdown",
   "metadata": {},
   "source": [
    "![image.png](attachment:image.png)"
   ]
  },
  {
   "cell_type": "code",
   "execution_count": 42,
   "metadata": {},
   "outputs": [],
   "source": [
    "lg2 = LogisticRegression(C=1, random_state=17, solver='liblinear')\n",
    "pred2 = lg2.fit(train_data,y).predict_proba(test_data)[:, 1]"
   ]
  },
  {
   "cell_type": "code",
   "execution_count": 43,
   "metadata": {},
   "outputs": [],
   "source": [
    "write_to_submission_file(pred2, 'sub2.csv')"
   ]
  },
  {
   "attachments": {
    "image.png": {
     "image/png": "[encoded data removed]"
    }
   },
   "cell_type": "markdown",
   "metadata": {},
   "source": [
    "![image.png](attachment:image.png)"
   ]
  },
  {
   "cell_type": "markdown",
   "metadata": {},
   "source": [
    "# Вывод"
   ]
  },
  {
   "cell_type": "markdown",
   "metadata": {},
   "source": [
    "Модель можно улучшить, попробовать бустинг, попробовать выявить закономерности в посещение сайтов.\n",
    "Данную модель можно использовать как отправную точку, логистическая регрессия простой алгоритм, но при этом дает неплохой результат."
   ]
  }
 ],
 "metadata": {
  "kernelspec": {
   "display_name": "Python 3",
   "language": "python",
   "name": "python3"
  },
  "language_info": {
   "codemirror_mode": {
    "name": "ipython",
    "version": 3
   },
   "file_extension": ".py",
   "mimetype": "text/x-python",
   "name": "python",
   "nbconvert_exporter": "python",
   "pygments_lexer": "ipython3",
   "version": "3.8.5"
  }
 },
 "nbformat": 4,
 "nbformat_minor": 4
}
